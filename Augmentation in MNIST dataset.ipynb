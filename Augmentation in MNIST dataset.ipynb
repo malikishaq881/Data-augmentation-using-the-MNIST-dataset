{
 "cells": [
  {
   "cell_type": "code",
   "execution_count": 14,
   "id": "39941338",
   "metadata": {},
   "outputs": [],
   "source": [
    "import numpy as np\n",
    "import pandas as pd\n",
    "import matplotlib.pyplot as plt"
   ]
  },
  {
   "cell_type": "code",
   "execution_count": 15,
   "id": "539d26c1",
   "metadata": {},
   "outputs": [
    {
     "data": {
      "text/html": [
       "<div>\n",
       "<style scoped>\n",
       "    .dataframe tbody tr th:only-of-type {\n",
       "        vertical-align: middle;\n",
       "    }\n",
       "\n",
       "    .dataframe tbody tr th {\n",
       "        vertical-align: top;\n",
       "    }\n",
       "\n",
       "    .dataframe thead th {\n",
       "        text-align: right;\n",
       "    }\n",
       "</style>\n",
       "<table border=\"1\" class=\"dataframe\">\n",
       "  <thead>\n",
       "    <tr style=\"text-align: right;\">\n",
       "      <th></th>\n",
       "      <th>pixel_0</th>\n",
       "      <th>pixel_1</th>\n",
       "      <th>pixel_2</th>\n",
       "      <th>pixel_3</th>\n",
       "      <th>pixel_4</th>\n",
       "      <th>pixel_5</th>\n",
       "      <th>pixel_6</th>\n",
       "      <th>pixel_7</th>\n",
       "      <th>pixel_8</th>\n",
       "      <th>pixel_9</th>\n",
       "      <th>...</th>\n",
       "      <th>pixel_55</th>\n",
       "      <th>pixel_56</th>\n",
       "      <th>pixel_57</th>\n",
       "      <th>pixel_58</th>\n",
       "      <th>pixel_59</th>\n",
       "      <th>pixel_60</th>\n",
       "      <th>pixel_61</th>\n",
       "      <th>pixel_62</th>\n",
       "      <th>pixel_63</th>\n",
       "      <th>label</th>\n",
       "    </tr>\n",
       "  </thead>\n",
       "  <tbody>\n",
       "    <tr>\n",
       "      <th>0</th>\n",
       "      <td>77</td>\n",
       "      <td>119</td>\n",
       "      <td>124</td>\n",
       "      <td>128</td>\n",
       "      <td>124</td>\n",
       "      <td>123</td>\n",
       "      <td>120</td>\n",
       "      <td>103</td>\n",
       "      <td>81</td>\n",
       "      <td>139</td>\n",
       "      <td>...</td>\n",
       "      <td>144</td>\n",
       "      <td>95</td>\n",
       "      <td>134</td>\n",
       "      <td>140</td>\n",
       "      <td>144</td>\n",
       "      <td>146</td>\n",
       "      <td>148</td>\n",
       "      <td>148</td>\n",
       "      <td>141</td>\n",
       "      <td>0</td>\n",
       "    </tr>\n",
       "    <tr>\n",
       "      <th>1</th>\n",
       "      <td>75</td>\n",
       "      <td>113</td>\n",
       "      <td>109</td>\n",
       "      <td>107</td>\n",
       "      <td>106</td>\n",
       "      <td>107</td>\n",
       "      <td>107</td>\n",
       "      <td>92</td>\n",
       "      <td>101</td>\n",
       "      <td>156</td>\n",
       "      <td>...</td>\n",
       "      <td>148</td>\n",
       "      <td>117</td>\n",
       "      <td>153</td>\n",
       "      <td>153</td>\n",
       "      <td>151</td>\n",
       "      <td>153</td>\n",
       "      <td>154</td>\n",
       "      <td>153</td>\n",
       "      <td>144</td>\n",
       "      <td>0</td>\n",
       "    </tr>\n",
       "    <tr>\n",
       "      <th>2</th>\n",
       "      <td>77</td>\n",
       "      <td>106</td>\n",
       "      <td>105</td>\n",
       "      <td>105</td>\n",
       "      <td>104</td>\n",
       "      <td>106</td>\n",
       "      <td>105</td>\n",
       "      <td>84</td>\n",
       "      <td>124</td>\n",
       "      <td>161</td>\n",
       "      <td>...</td>\n",
       "      <td>155</td>\n",
       "      <td>128</td>\n",
       "      <td>158</td>\n",
       "      <td>131</td>\n",
       "      <td>96</td>\n",
       "      <td>114</td>\n",
       "      <td>128</td>\n",
       "      <td>156</td>\n",
       "      <td>153</td>\n",
       "      <td>0</td>\n",
       "    </tr>\n",
       "    <tr>\n",
       "      <th>3</th>\n",
       "      <td>62</td>\n",
       "      <td>105</td>\n",
       "      <td>103</td>\n",
       "      <td>103</td>\n",
       "      <td>100</td>\n",
       "      <td>99</td>\n",
       "      <td>97</td>\n",
       "      <td>96</td>\n",
       "      <td>112</td>\n",
       "      <td>164</td>\n",
       "      <td>...</td>\n",
       "      <td>161</td>\n",
       "      <td>125</td>\n",
       "      <td>161</td>\n",
       "      <td>161</td>\n",
       "      <td>153</td>\n",
       "      <td>158</td>\n",
       "      <td>162</td>\n",
       "      <td>161</td>\n",
       "      <td>159</td>\n",
       "      <td>0</td>\n",
       "    </tr>\n",
       "    <tr>\n",
       "      <th>4</th>\n",
       "      <td>63</td>\n",
       "      <td>100</td>\n",
       "      <td>98</td>\n",
       "      <td>100</td>\n",
       "      <td>102</td>\n",
       "      <td>102</td>\n",
       "      <td>106</td>\n",
       "      <td>107</td>\n",
       "      <td>113</td>\n",
       "      <td>161</td>\n",
       "      <td>...</td>\n",
       "      <td>164</td>\n",
       "      <td>124</td>\n",
       "      <td>165</td>\n",
       "      <td>165</td>\n",
       "      <td>152</td>\n",
       "      <td>160</td>\n",
       "      <td>167</td>\n",
       "      <td>164</td>\n",
       "      <td>163</td>\n",
       "      <td>0</td>\n",
       "    </tr>\n",
       "    <tr>\n",
       "      <th>...</th>\n",
       "      <td>...</td>\n",
       "      <td>...</td>\n",
       "      <td>...</td>\n",
       "      <td>...</td>\n",
       "      <td>...</td>\n",
       "      <td>...</td>\n",
       "      <td>...</td>\n",
       "      <td>...</td>\n",
       "      <td>...</td>\n",
       "      <td>...</td>\n",
       "      <td>...</td>\n",
       "      <td>...</td>\n",
       "      <td>...</td>\n",
       "      <td>...</td>\n",
       "      <td>...</td>\n",
       "      <td>...</td>\n",
       "      <td>...</td>\n",
       "      <td>...</td>\n",
       "      <td>...</td>\n",
       "      <td>...</td>\n",
       "      <td>...</td>\n",
       "    </tr>\n",
       "    <tr>\n",
       "      <th>155</th>\n",
       "      <td>89</td>\n",
       "      <td>110</td>\n",
       "      <td>134</td>\n",
       "      <td>130</td>\n",
       "      <td>130</td>\n",
       "      <td>129</td>\n",
       "      <td>128</td>\n",
       "      <td>125</td>\n",
       "      <td>105</td>\n",
       "      <td>126</td>\n",
       "      <td>...</td>\n",
       "      <td>149</td>\n",
       "      <td>69</td>\n",
       "      <td>82</td>\n",
       "      <td>100</td>\n",
       "      <td>100</td>\n",
       "      <td>101</td>\n",
       "      <td>80</td>\n",
       "      <td>75</td>\n",
       "      <td>104</td>\n",
       "      <td>9</td>\n",
       "    </tr>\n",
       "    <tr>\n",
       "      <th>156</th>\n",
       "      <td>107</td>\n",
       "      <td>87</td>\n",
       "      <td>127</td>\n",
       "      <td>123</td>\n",
       "      <td>125</td>\n",
       "      <td>117</td>\n",
       "      <td>121</td>\n",
       "      <td>123</td>\n",
       "      <td>127</td>\n",
       "      <td>104</td>\n",
       "      <td>...</td>\n",
       "      <td>144</td>\n",
       "      <td>86</td>\n",
       "      <td>73</td>\n",
       "      <td>103</td>\n",
       "      <td>102</td>\n",
       "      <td>104</td>\n",
       "      <td>104</td>\n",
       "      <td>104</td>\n",
       "      <td>103</td>\n",
       "      <td>9</td>\n",
       "    </tr>\n",
       "    <tr>\n",
       "      <th>157</th>\n",
       "      <td>111</td>\n",
       "      <td>81</td>\n",
       "      <td>126</td>\n",
       "      <td>126</td>\n",
       "      <td>125</td>\n",
       "      <td>122</td>\n",
       "      <td>121</td>\n",
       "      <td>123</td>\n",
       "      <td>134</td>\n",
       "      <td>96</td>\n",
       "      <td>...</td>\n",
       "      <td>140</td>\n",
       "      <td>91</td>\n",
       "      <td>71</td>\n",
       "      <td>105</td>\n",
       "      <td>104</td>\n",
       "      <td>91</td>\n",
       "      <td>100</td>\n",
       "      <td>102</td>\n",
       "      <td>103</td>\n",
       "      <td>9</td>\n",
       "    </tr>\n",
       "    <tr>\n",
       "      <th>158</th>\n",
       "      <td>125</td>\n",
       "      <td>81</td>\n",
       "      <td>119</td>\n",
       "      <td>124</td>\n",
       "      <td>124</td>\n",
       "      <td>127</td>\n",
       "      <td>125</td>\n",
       "      <td>127</td>\n",
       "      <td>147</td>\n",
       "      <td>96</td>\n",
       "      <td>...</td>\n",
       "      <td>144</td>\n",
       "      <td>102</td>\n",
       "      <td>70</td>\n",
       "      <td>98</td>\n",
       "      <td>105</td>\n",
       "      <td>104</td>\n",
       "      <td>101</td>\n",
       "      <td>98</td>\n",
       "      <td>99</td>\n",
       "      <td>9</td>\n",
       "    </tr>\n",
       "    <tr>\n",
       "      <th>159</th>\n",
       "      <td>123</td>\n",
       "      <td>86</td>\n",
       "      <td>129</td>\n",
       "      <td>135</td>\n",
       "      <td>137</td>\n",
       "      <td>136</td>\n",
       "      <td>135</td>\n",
       "      <td>135</td>\n",
       "      <td>141</td>\n",
       "      <td>96</td>\n",
       "      <td>...</td>\n",
       "      <td>146</td>\n",
       "      <td>92</td>\n",
       "      <td>64</td>\n",
       "      <td>93</td>\n",
       "      <td>99</td>\n",
       "      <td>99</td>\n",
       "      <td>91</td>\n",
       "      <td>97</td>\n",
       "      <td>95</td>\n",
       "      <td>9</td>\n",
       "    </tr>\n",
       "  </tbody>\n",
       "</table>\n",
       "<p>160 rows × 65 columns</p>\n",
       "</div>"
      ],
      "text/plain": [
       "     pixel_0  pixel_1  pixel_2  pixel_3  pixel_4  pixel_5  pixel_6  pixel_7  \\\n",
       "0         77      119      124      128      124      123      120      103   \n",
       "1         75      113      109      107      106      107      107       92   \n",
       "2         77      106      105      105      104      106      105       84   \n",
       "3         62      105      103      103      100       99       97       96   \n",
       "4         63      100       98      100      102      102      106      107   \n",
       "..       ...      ...      ...      ...      ...      ...      ...      ...   \n",
       "155       89      110      134      130      130      129      128      125   \n",
       "156      107       87      127      123      125      117      121      123   \n",
       "157      111       81      126      126      125      122      121      123   \n",
       "158      125       81      119      124      124      127      125      127   \n",
       "159      123       86      129      135      137      136      135      135   \n",
       "\n",
       "     pixel_8  pixel_9  ...  pixel_55  pixel_56  pixel_57  pixel_58  pixel_59  \\\n",
       "0         81      139  ...       144        95       134       140       144   \n",
       "1        101      156  ...       148       117       153       153       151   \n",
       "2        124      161  ...       155       128       158       131        96   \n",
       "3        112      164  ...       161       125       161       161       153   \n",
       "4        113      161  ...       164       124       165       165       152   \n",
       "..       ...      ...  ...       ...       ...       ...       ...       ...   \n",
       "155      105      126  ...       149        69        82       100       100   \n",
       "156      127      104  ...       144        86        73       103       102   \n",
       "157      134       96  ...       140        91        71       105       104   \n",
       "158      147       96  ...       144       102        70        98       105   \n",
       "159      141       96  ...       146        92        64        93        99   \n",
       "\n",
       "     pixel_60  pixel_61  pixel_62  pixel_63  label  \n",
       "0         146       148       148       141      0  \n",
       "1         153       154       153       144      0  \n",
       "2         114       128       156       153      0  \n",
       "3         158       162       161       159      0  \n",
       "4         160       167       164       163      0  \n",
       "..        ...       ...       ...       ...    ...  \n",
       "155       101        80        75       104      9  \n",
       "156       104       104       104       103      9  \n",
       "157        91       100       102       103      9  \n",
       "158       104       101        98        99      9  \n",
       "159        99        91        97        95      9  \n",
       "\n",
       "[160 rows x 65 columns]"
      ]
     },
     "execution_count": 15,
     "metadata": {},
     "output_type": "execute_result"
    }
   ],
   "source": [
    "#Load dataset\n",
    "data = pd.read_csv(r\"C:\\Users\\Asad\\ML Regression and Classification\\digit_dataset.csv\")\n",
    "data"
   ]
  },
  {
   "cell_type": "code",
   "execution_count": 16,
   "id": "2bc50c4e",
   "metadata": {},
   "outputs": [
    {
     "name": "stdout",
     "output_type": "stream",
     "text": [
      "     pixel_0  pixel_1  pixel_2  pixel_3  pixel_4  pixel_5  pixel_6  pixel_7  \\\n",
      "0         77      119      124      128      124      123      120      103   \n",
      "1         75      113      109      107      106      107      107       92   \n",
      "2         77      106      105      105      104      106      105       84   \n",
      "3         62      105      103      103      100       99       97       96   \n",
      "4         63      100       98      100      102      102      106      107   \n",
      "..       ...      ...      ...      ...      ...      ...      ...      ...   \n",
      "155       89      110      134      130      130      129      128      125   \n",
      "156      107       87      127      123      125      117      121      123   \n",
      "157      111       81      126      126      125      122      121      123   \n",
      "158      125       81      119      124      124      127      125      127   \n",
      "159      123       86      129      135      137      136      135      135   \n",
      "\n",
      "     pixel_8  pixel_9  ...  pixel_54  pixel_55  pixel_56  pixel_57  pixel_58  \\\n",
      "0         81      139  ...       154       144        95       134       140   \n",
      "1        101      156  ...       159       148       117       153       153   \n",
      "2        124      161  ...       142       155       128       158       131   \n",
      "3        112      164  ...       163       161       125       161       161   \n",
      "4        113      161  ...       167       164       124       165       165   \n",
      "..       ...      ...  ...       ...       ...       ...       ...       ...   \n",
      "155      105      126  ...       109       149        69        82       100   \n",
      "156      127      104  ...       145       144        86        73       103   \n",
      "157      134       96  ...       143       140        91        71       105   \n",
      "158      147       96  ...       123       144       102        70        98   \n",
      "159      141       96  ...       130       146        92        64        93   \n",
      "\n",
      "     pixel_59  pixel_60  pixel_61  pixel_62  pixel_63  \n",
      "0         144       146       148       148       141  \n",
      "1         151       153       154       153       144  \n",
      "2          96       114       128       156       153  \n",
      "3         153       158       162       161       159  \n",
      "4         152       160       167       164       163  \n",
      "..        ...       ...       ...       ...       ...  \n",
      "155       100       101        80        75       104  \n",
      "156       102       104       104       104       103  \n",
      "157       104        91       100       102       103  \n",
      "158       105       104       101        98        99  \n",
      "159        99        99        91        97        95  \n",
      "\n",
      "[160 rows x 64 columns]\n"
     ]
    }
   ],
   "source": [
    "x=data.drop('label', axis=1)\n",
    "y=data[['label']]\n",
    "print(x)"
   ]
  },
  {
   "cell_type": "code",
   "execution_count": 17,
   "id": "06f4dd97",
   "metadata": {},
   "outputs": [
    {
     "data": {
      "text/plain": [
       "(160, 64)"
      ]
     },
     "execution_count": 17,
     "metadata": {},
     "output_type": "execute_result"
    }
   ],
   "source": [
    "x.shape"
   ]
  },
  {
   "cell_type": "code",
   "execution_count": 18,
   "id": "43a32791",
   "metadata": {},
   "outputs": [],
   "source": [
    "Y = y.squeeze()"
   ]
  },
  {
   "cell_type": "code",
   "execution_count": 19,
   "id": "1e7c0026",
   "metadata": {},
   "outputs": [
    {
     "name": "stdout",
     "output_type": "stream",
     "text": [
      "0      0\n",
      "1      0\n",
      "2      0\n",
      "3      0\n",
      "4      0\n",
      "      ..\n",
      "155    9\n",
      "156    9\n",
      "157    9\n",
      "158    9\n",
      "159    9\n",
      "Name: label, Length: 160, dtype: int64\n"
     ]
    }
   ],
   "source": [
    "print(Y)"
   ]
  },
  {
   "cell_type": "code",
   "execution_count": 20,
   "id": "6f8790fb",
   "metadata": {},
   "outputs": [],
   "source": [
    "from sklearn.datasets import load_digits\n",
    "\n",
    "digits = load_digits()\n",
    "X_digits = digits.data\n",
    "y_digits = digits.target"
   ]
  },
  {
   "cell_type": "code",
   "execution_count": null,
   "id": "77aeb1b8",
   "metadata": {},
   "outputs": [],
   "source": []
  },
  {
   "cell_type": "code",
   "execution_count": 21,
   "id": "5e5d99d5",
   "metadata": {},
   "outputs": [
    {
     "data": {
      "text/plain": [
       "(1797, 64)"
      ]
     },
     "execution_count": 21,
     "metadata": {},
     "output_type": "execute_result"
    }
   ],
   "source": [
    "X_digits.shape"
   ]
  },
  {
   "cell_type": "code",
   "execution_count": 22,
   "id": "16431c40",
   "metadata": {},
   "outputs": [
    {
     "data": {
      "text/plain": [
       "(1797,)"
      ]
     },
     "execution_count": 22,
     "metadata": {},
     "output_type": "execute_result"
    }
   ],
   "source": [
    "y_digits.shape"
   ]
  },
  {
   "cell_type": "code",
   "execution_count": 23,
   "id": "4781c445",
   "metadata": {},
   "outputs": [],
   "source": [
    "import numpy as np\n",
    "\n",
    "# Concatenate your data with load_digits data\n",
    "X_combined = np.vstack((x, X_digits))\n",
    "y_combined = np.concatenate((Y, y_digits))"
   ]
  },
  {
   "cell_type": "code",
   "execution_count": 12,
   "id": "c5f6a561",
   "metadata": {},
   "outputs": [
    {
     "data": {
      "text/plain": [
       "(1957, 64)"
      ]
     },
     "execution_count": 12,
     "metadata": {},
     "output_type": "execute_result"
    }
   ],
   "source": [
    "X_combined.shape"
   ]
  },
  {
   "cell_type": "code",
   "execution_count": 25,
   "id": "676aebc4",
   "metadata": {},
   "outputs": [],
   "source": [
    "#splitting the dataset to train and test\n",
    "from sklearn.model_selection import train_test_split\n",
    "xtrain, xtest, ytrain, ytest=train_test_split(X_combined, y_combined, test_size=0.3, random_state=100)"
   ]
  },
  {
   "cell_type": "code",
   "execution_count": 26,
   "id": "ad32f883",
   "metadata": {},
   "outputs": [
    {
     "data": {
      "text/plain": [
       "(1369, 64)"
      ]
     },
     "execution_count": 26,
     "metadata": {},
     "output_type": "execute_result"
    }
   ],
   "source": [
    "xtrain.shape"
   ]
  },
  {
   "cell_type": "code",
   "execution_count": 28,
   "id": "b353de4d",
   "metadata": {},
   "outputs": [
    {
     "data": {
      "text/plain": [
       "(588, 64)"
      ]
     },
     "execution_count": 28,
     "metadata": {},
     "output_type": "execute_result"
    }
   ],
   "source": [
    "xtest.shape"
   ]
  },
  {
   "cell_type": "code",
   "execution_count": 13,
   "id": "dea498ed",
   "metadata": {},
   "outputs": [
    {
     "ename": "NameError",
     "evalue": "name 'xtrain' is not defined",
     "output_type": "error",
     "traceback": [
      "\u001b[1;31m---------------------------------------------------------------------------\u001b[0m",
      "\u001b[1;31mNameError\u001b[0m                                 Traceback (most recent call last)",
      "Cell \u001b[1;32mIn[13], line 6\u001b[0m\n\u001b[0;32m      3\u001b[0m classifier \u001b[38;5;241m=\u001b[39m LogisticRegression()\n\u001b[0;32m      4\u001b[0m \u001b[38;5;66;03m# from sklearn.neighbors import KNeighborsClassifier\u001b[39;00m\n\u001b[0;32m      5\u001b[0m \u001b[38;5;66;03m# classifier = KNeighborsClassifier(n_neighbors=5)\u001b[39;00m\n\u001b[1;32m----> 6\u001b[0m classifier\u001b[38;5;241m.\u001b[39mfit(xtrain, ytrain)\n\u001b[0;32m      7\u001b[0m predictions\u001b[38;5;241m=\u001b[39mclassifier\u001b[38;5;241m.\u001b[39mpredict(xtest)\n\u001b[0;32m      9\u001b[0m score\u001b[38;5;241m=\u001b[39mclassifier\u001b[38;5;241m.\u001b[39mscore(xtest, ytest)\n",
      "\u001b[1;31mNameError\u001b[0m: name 'xtrain' is not defined"
     ]
    }
   ],
   "source": [
    "# Finally we are training our Logistic Regression Model\n",
    "from sklearn.linear_model import LogisticRegression\n",
    "classifier = LogisticRegression()\n",
    "# from sklearn.neighbors import KNeighborsClassifier\n",
    "# classifier = KNeighborsClassifier(n_neighbors=5)\n",
    "classifier.fit(xtrain, ytrain)\n",
    "predictions=classifier.predict(xtest)\n",
    "\n",
    "score=classifier.score(xtest, ytest)\n",
    "print(score)"
   ]
  },
  {
   "cell_type": "code",
   "execution_count": 48,
   "id": "52ec2950",
   "metadata": {},
   "outputs": [
    {
     "name": "stdout",
     "output_type": "stream",
     "text": [
      "[9 4 6 9 8 2 4 5 8 1 5 8 1 0 6 9 6 1 8 6 5 3 7 9 1 4 1 5 8 1 3 1 4 2 6 3 7\n",
      " 7 0 5 1 1 3 3 5 5 2 3 7 7 8 7 8 3 1 9 7 7 4 2 7 1 5 1 8 8 9 3 3 2 1 6 6 9\n",
      " 5 0 1 7 0 4 5 6 3 9 9 1 0 7 6 6 7 3 9 3 6 4 1 4 9 8 8 9 6 5 6 7 6 2 0 8 5\n",
      " 1 6 5 7 5 1 9 5 6 0 3 0 8 7 5 4 3 6 1 6 7 4 5 8 1 1 4 3 5 6 9 0 3 4 8 5 8\n",
      " 1 7 3 4 4 6 1 4 3 4 4 6 9 2 6 2 3 8 9 4 3 8 4 3 4 6 6 9 2 1 8 2 4 5 9 9 4\n",
      " 1 3 7 7 5 3 7 4 3 7 6 1 8 8 2 3 4 4 1 6 0 8 6 1 7 6 0 6 0 3 2 6 5 4 4 3 0\n",
      " 9 7 8 2 2 6 8 0 7 7 9 6 4 8 4 4 4 0 8 0 0 6 0 3 9 5 7 8 7 6 3 5 7 8 4 8 7\n",
      " 0 5 0 3 7 5 3 8 1 8 9 6 2 0 3 7 5 7 8 1 4 5 8 4 6 1 9 0 8 1 8 3 9 3 8 6 7\n",
      " 0 7 8 5 7 5 4 5 3 1 1 4 6 2 4 1 5 7 4 2 2 1 9 3 6 4 1 2 9 9 5 7 0 8 9 2 3\n",
      " 3 7 1 2 4 8 6 1 1 4 3 2 0 3 2 5 2 0 3 1 6 9 0 0 9 9 1 0 1 7 2 0 3 9 1 1 2\n",
      " 8 4 6 7 5 7 0 6 7 3 2 8 0 9 4 5 8 8 3 0 6 4 2 1 1 6 0 9 0 6 4 4 5 1 9 2 2\n",
      " 9 6 9 1 9 0 0 5 1 1 3 0 3 5 5 7 2 6 8 3 0 3 7 0 2 6 1 0 8 7 0 4 2 2 4 9 8\n",
      " 9 5 9 5 3 7 6 6 3 2 4 7 4 8 2 1 4 9 8 5 9 3 1 2 5 7 0 5 1 7 0 6 9 5 0 8 8\n",
      " 4 9 0 6 9 0 1 9 7 4 2 0 7 6 0 2 9 2 0 9 9 9 9 3 0 0 8 6 8 2 5 8 9 5 6 2 1\n",
      " 8 4 1 5 1 1 0 3 0 2 7 5 1 6 5 3 9 5 3 4 9 6 3 5 2 5 8 4 3 6 8 4 0 9 2 1 0\n",
      " 8 6 3 1 4 3 0 2 2 8 0 9 3 3 3 2 7 2 3 8 2 5 4 1 4 4 3 7 2 1 9 5 8]\n"
     ]
    }
   ],
   "source": [
    "print(ytest)"
   ]
  },
  {
   "cell_type": "code",
   "execution_count": 49,
   "id": "b827bf20",
   "metadata": {},
   "outputs": [
    {
     "name": "stdout",
     "output_type": "stream",
     "text": [
      "[9 0 6 9 8 3 4 5 8 1 5 8 1 0 6 1 6 1 8 6 5 3 7 9 1 4 1 5 8 1 3 1 4 2 6 3 7\n",
      " 7 0 5 1 1 3 3 5 5 2 3 7 7 5 7 5 3 1 9 7 7 4 2 7 1 5 1 8 8 9 3 3 2 1 6 6 9\n",
      " 5 4 1 7 0 4 5 9 9 9 9 1 0 7 6 6 7 3 3 5 6 4 1 5 9 8 3 9 6 5 6 7 6 2 0 8 5\n",
      " 1 8 5 7 5 1 9 5 6 0 3 0 9 7 5 1 2 5 1 6 7 4 5 1 4 0 4 3 5 6 9 0 3 4 3 5 8\n",
      " 1 7 3 4 4 6 1 4 3 4 4 6 9 2 6 2 3 8 3 4 3 8 5 8 4 6 6 9 2 1 8 2 4 5 9 9 4\n",
      " 1 3 7 7 5 3 7 4 3 7 6 1 8 8 2 3 4 4 1 6 0 8 6 1 9 6 1 6 0 3 2 6 5 4 4 3 0\n",
      " 9 7 8 2 2 6 0 0 7 7 5 6 4 8 4 4 4 0 1 0 0 6 0 3 1 5 9 9 7 6 9 5 7 8 4 8 7\n",
      " 4 5 6 6 7 5 3 9 1 9 9 6 2 0 6 7 5 7 8 1 4 5 9 4 0 1 9 0 8 1 5 3 9 3 8 6 7\n",
      " 0 7 3 5 7 5 7 4 3 1 1 4 6 8 4 4 7 7 4 2 2 1 9 3 6 4 1 4 9 9 5 7 0 8 9 2 3\n",
      " 3 7 1 2 9 3 9 3 3 4 3 2 5 3 2 5 2 0 3 1 0 9 0 0 9 7 1 0 1 7 2 6 7 1 1 1 2\n",
      " 8 4 6 7 5 7 0 6 7 3 2 8 0 9 4 5 8 1 3 0 6 1 2 1 5 6 0 9 0 6 4 4 5 1 9 2 2\n",
      " 1 6 9 1 9 0 4 5 1 1 3 0 3 5 5 4 2 6 8 3 0 3 7 0 2 6 1 0 8 7 0 4 2 2 4 3 9\n",
      " 9 5 9 5 3 7 6 6 3 2 4 7 4 8 2 1 5 9 8 5 9 3 1 2 5 7 0 5 1 7 0 6 9 1 0 8 8\n",
      " 4 9 0 6 3 0 2 9 7 4 2 0 7 6 0 3 9 2 0 9 9 9 9 3 0 0 8 6 9 2 5 8 1 5 6 2 1\n",
      " 8 4 1 5 1 1 0 3 0 2 7 6 1 8 5 3 9 5 8 4 3 5 3 5 3 5 8 4 3 5 8 4 0 5 2 1 0\n",
      " 8 6 3 1 7 3 0 3 2 8 0 9 3 3 3 2 7 2 6 1 2 5 5 1 4 4 3 7 2 1 9 5 8]\n"
     ]
    }
   ],
   "source": [
    "print(predictions)"
   ]
  },
  {
   "cell_type": "code",
   "execution_count": 50,
   "id": "9bd36adc",
   "metadata": {},
   "outputs": [
    {
     "data": {
      "image/png": "[encoded data removed]",
      "text/plain": [
       "<Figure size 900x900 with 2 Axes>"
      ]
     },
     "metadata": {},
     "output_type": "display_data"
    }
   ],
   "source": [
    "import matplotlib.pyplot as plt\n",
    "import seaborn as sns\n",
    "from sklearn import metrics\n",
    "cm=metrics.confusion_matrix(ytest, predictions)\n",
    "plt.figure(figsize=(9,9))\n",
    "sns.heatmap(cm, annot=True, fmt=\".3f\", linewidth=.5, square=True, cmap='Pastel1');\n",
    "plt.ylabel('Actual label');\n",
    "plt.xlabel('Predicted label');\n",
    "#all_sample_title='Accuracy Score: {0}'.format(score)\n",
    "# plt.title(all_sample_title, size=15);"
   ]
  },
  {
   "cell_type": "code",
   "execution_count": 51,
   "id": "b4d010d2",
   "metadata": {},
   "outputs": [
    {
     "data": {
      "text/plain": [
       "['New-trained-model']"
      ]
     },
     "execution_count": 51,
     "metadata": {},
     "output_type": "execute_result"
    }
   ],
   "source": [
    "import joblib\n",
    "joblib.dump(classifier, 'New-trained-model')"
   ]
  },
  {
   "cell_type": "code",
   "execution_count": null,
   "id": "2d5b2524",
   "metadata": {},
   "outputs": [],
   "source": []
  }
 ],
 "metadata": {
  "kernelspec": {
   "display_name": "Python 3 (ipykernel)",
   "language": "python",
   "name": "python3"
  },
  "language_info": {
   "codemirror_mode": {
    "name": "ipython",
    "version": 3
   },
   "file_extension": ".py",
   "mimetype": "text/x-python",
   "name": "python",
   "nbconvert_exporter": "python",
   "pygments_lexer": "ipython3",
   "version": "3.11.3"
  }
 },
 "nbformat": 4,
 "nbformat_minor": 5
}
